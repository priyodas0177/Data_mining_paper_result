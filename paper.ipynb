{
 "cells": [
  {
   "cell_type": "code",
   "execution_count": 11,
   "id": "2f3f5fea",
   "metadata": {},
   "outputs": [],
   "source": [
    "import pandas as pd"
   ]
  },
  {
   "cell_type": "markdown",
   "id": "710135a4",
   "metadata": {},
   "source": [
    "load dataset"
   ]
  },
  {
   "cell_type": "code",
   "execution_count": 12,
   "id": "525faff1",
   "metadata": {},
   "outputs": [],
   "source": [
    "base_path= \"/Users/hdpriyo/Desktop/Paper/dataset/\"\n",
    "\n",
    "Student_info=pd.read_csv(base_path + \"studentInfo.csv\")\n",
    "Student_assessment= pd.read_csv(base_path + \"studentAssessment.csv\")\n",
    "Student_registration= pd.read_csv(base_path + \"studentRegistration.csv\")\n",
    "student_vle=pd.read_csv(base_path + \"studentVle_short.csv\")\n"
   ]
  },
  {
   "cell_type": "markdown",
   "id": "bb35da30",
   "metadata": {},
   "source": [
    "marge dataset"
   ]
  },
  {
   "cell_type": "code",
   "execution_count": 13,
   "id": "73c50401",
   "metadata": {},
   "outputs": [],
   "source": [
    "merge1= pd.merge (Student_info, Student_assessment, on=\"id_student\", how=\"left\" )\n"
   ]
  },
  {
   "cell_type": "code",
   "execution_count": 14,
   "id": "f0d343f6",
   "metadata": {},
   "outputs": [],
   "source": [
    "merge2= pd.merge (merge1, Student_registration, on=[\"id_student\", \"code_module\", \"code_presentation\"], how=\"left\")\n"
   ]
  },
  {
   "cell_type": "code",
   "execution_count": 15,
   "id": "b1d0ccc0",
   "metadata": {},
   "outputs": [],
   "source": [
    "final_merge= pd.merge (merge2,student_vle, on=[\"id_student\", \"code_module\", \"code_presentation\"], how=\"left\")\n"
   ]
  },
  {
   "cell_type": "code",
   "execution_count": 16,
   "id": "8fcd6ac9",
   "metadata": {},
   "outputs": [],
   "source": [
    "final_merge.to_csv(\"merge_final_dataset_copy.csv\", index=False)"
   ]
  },
  {
   "cell_type": "code",
   "execution_count": 17,
   "id": "be0a6849",
   "metadata": {},
   "outputs": [],
   "source": [
    "final_merge[\"burnout\"]=0"
   ]
  },
  {
   "cell_type": "code",
   "execution_count": 18,
   "id": "2cc75340",
   "metadata": {},
   "outputs": [],
   "source": [
    "final_merge.to_csv(\"burnout_0.csv\", index=False)"
   ]
  },
  {
   "cell_type": "code",
   "execution_count": 19,
   "id": "c555dee1",
   "metadata": {},
   "outputs": [],
   "source": [
    "# 1. Define the column you want to check (e.g., 'col1')\n",
    "#    Replace 'col1' with the actual column name you want to use for the condition.\n",
    "condition_column = 'sum_click'\n",
    "\n",
    "# 2. Create a boolean mask to identify the rows\n",
    "#    This mask will be True for rows where the value in 'condition_column' is <= 1\n",
    "mask = final_merge[condition_column] <= final_merge[condition_column].quantile(0.25)\n",
    "#final_merge[\"sum_click\"].describe() give 25 percentile =1\n",
    "\n",
    "\n",
    "# 3. Use .loc to select rows based on the mask and set the 'burnout' column\n",
    "final_merge.loc[mask, 'burnout'] = 1"
   ]
  },
  {
   "cell_type": "code",
   "execution_count": 31,
   "id": "f6d928bb",
   "metadata": {},
   "outputs": [
    {
     "name": "stdout",
     "output_type": "stream",
     "text": [
      "0        False\n",
      "1         True\n",
      "2        False\n",
      "3         True\n",
      "4        False\n",
      "         ...  \n",
      "28780    False\n",
      "28781    False\n",
      "28782    False\n",
      "28783    False\n",
      "28784    False\n",
      "Name: engagement_slope, Length: 28785, dtype: bool\n"
     ]
    }
   ],
   "source": [
    "print(mask)"
   ]
  },
  {
   "cell_type": "code",
   "execution_count": 37,
   "id": "d28dc93e",
   "metadata": {},
   "outputs": [
    {
     "name": "stdout",
     "output_type": "stream",
     "text": [
      "3630080\n"
     ]
    }
   ],
   "source": [
    "print((final_merge[\"burnout\"]==1).sum())\n",
    "#print(final_merge.loc[final_merge[\"burnout\"]==1])\n"
   ]
  },
  {
   "cell_type": "code",
   "execution_count": 38,
   "id": "9d8791f8",
   "metadata": {},
   "outputs": [
    {
     "name": "stdout",
     "output_type": "stream",
     "text": [
      "556156\n"
     ]
    }
   ],
   "source": [
    "print((final_merge[\"burnout\"]==0).sum())\n"
   ]
  },
  {
   "cell_type": "code",
   "execution_count": 42,
   "id": "cbc90e39",
   "metadata": {},
   "outputs": [
    {
     "name": "stdout",
     "output_type": "stream",
     "text": [
      "<class 'pandas.core.series.Series'>\n",
      "RangeIndex: 4186236 entries, 0 to 4186235\n",
      "Series name: sum_click\n",
      "Non-Null Count    Dtype  \n",
      "--------------    -----  \n",
      "3988292 non-null  float64\n",
      "dtypes: float64(1)\n",
      "memory usage: 31.9 MB\n"
     ]
    }
   ],
   "source": [
    "final_merge[\"sum_click\"].info()"
   ]
  },
  {
   "cell_type": "code",
   "execution_count": 20,
   "id": "fab13ba4",
   "metadata": {},
   "outputs": [],
   "source": [
    "final_merge.to_csv(\"percentance_0.25.csv\", index=False)"
   ]
  },
  {
   "cell_type": "code",
   "execution_count": 21,
   "id": "73751935",
   "metadata": {},
   "outputs": [],
   "source": [
    "#Missed or failed most assessments\t\n",
    "# 1. Define the column you want to check (e.g., 'col1')\n",
    "#    Replace 'col1' with the actual column name you want to use for the condition.\n",
    "condition_column = 'score'\n",
    "\n",
    "# 2. Create a boolean mask to identify the rows\n",
    "#    This mask will be True for rows where the value in 'condition_column' is <= 1\n",
    "mask = final_merge[condition_column] <= 30\n",
    "#final_merge[\"sum_click\"].describe() give 25 percentile =1\n",
    "\n",
    "\n",
    "# 3. Use .loc to select rows based on the mask and set the 'burnout' column\n",
    "final_merge.loc[mask, 'burnout'] = 1"
   ]
  },
  {
   "cell_type": "code",
   "execution_count": null,
   "id": "84206c8f",
   "metadata": {},
   "outputs": [],
   "source": [
    "final_merge.info()"
   ]
  },
  {
   "cell_type": "code",
   "execution_count": 22,
   "id": "4d294c2d",
   "metadata": {},
   "outputs": [],
   "source": [
    "# 1. Define the column to check\n",
    "condition_column = 'final_result'\n",
    "\n",
    "# 2. Create a boolean mask for Withdrawn or Fail\n",
    "mask = final_merge[condition_column].isin(['Withdrawn', 'Fail'])\n",
    "\n",
    "# 3. Set burnout = 1 for those rows\n",
    "final_merge.loc[mask, 'burnout'] = 1\n"
   ]
  },
  {
   "cell_type": "code",
   "execution_count": 24,
   "id": "32b16d4d",
   "metadata": {},
   "outputs": [],
   "source": [
    "final_merge.to_csv(\"final_result_done.csv\", index=False)"
   ]
  },
  {
   "cell_type": "code",
   "execution_count": 23,
   "id": "0dccfe5c",
   "metadata": {},
   "outputs": [
    {
     "name": "stdout",
     "output_type": "stream",
     "text": [
      "<class 'pandas.core.frame.DataFrame'>\n",
      "RangeIndex: 4186236 entries, 0 to 4186235\n",
      "Data columns (total 22 columns):\n",
      " #   Column                Dtype  \n",
      "---  ------                -----  \n",
      " 0   code_module           object \n",
      " 1   code_presentation     object \n",
      " 2   id_student            int64  \n",
      " 3   gender                object \n",
      " 4   region                object \n",
      " 5   highest_education     object \n",
      " 6   imd_band              object \n",
      " 7   age_band              object \n",
      " 8   num_of_prev_attempts  int64  \n",
      " 9   studied_credits       int64  \n",
      " 10  disability            object \n",
      " 11  final_result          object \n",
      " 12  id_assessment         float64\n",
      " 13  date_submitted        float64\n",
      " 14  is_banked             float64\n",
      " 15  score                 float64\n",
      " 16  date_registration     float64\n",
      " 17  date_unregistration   float64\n",
      " 18  id_site               float64\n",
      " 19  date                  float64\n",
      " 20  sum_click             float64\n",
      " 21  burnout               int64  \n",
      "dtypes: float64(9), int64(4), object(9)\n",
      "memory usage: 702.6+ MB\n"
     ]
    }
   ],
   "source": [
    "final_merge.info()"
   ]
  },
  {
   "cell_type": "code",
   "execution_count": 26,
   "id": "76be7680",
   "metadata": {},
   "outputs": [],
   "source": [
    "from scipy.stats import linregress\n"
   ]
  },
  {
   "cell_type": "code",
   "execution_count": 29,
   "id": "ca4e0c0f",
   "metadata": {},
   "outputs": [],
   "source": [
    "final_merge.to_csv(\"final_result.csv\", index=False)"
   ]
  },
  {
   "cell_type": "code",
   "execution_count": 46,
   "id": "eade27ee",
   "metadata": {},
   "outputs": [
    {
     "data": {
      "text/plain": [
       "array(['2013J', '2014J', '2013B', '2014B'], dtype=object)"
      ]
     },
     "execution_count": 46,
     "metadata": {},
     "output_type": "execute_result"
    }
   ],
   "source": [
    "final_merge[\"code_presentation\"].unique()"
   ]
  },
  {
   "cell_type": "code",
   "execution_count": 48,
   "id": "3aa0314f",
   "metadata": {},
   "outputs": [
    {
     "data": {
      "text/plain": [
       "array([ 0., nan,  1.])"
      ]
     },
     "execution_count": 48,
     "metadata": {},
     "output_type": "execute_result"
    }
   ],
   "source": [
    "final_merge[\"is_banked\"].unique()"
   ]
  },
  {
   "cell_type": "code",
   "execution_count": 62,
   "id": "5203de61",
   "metadata": {},
   "outputs": [
    {
     "data": {
      "text/plain": [
       "array([  nan,   12.,   96.,   72.,  175.,  135.,   30.,  144.,  129.,\n",
       "         58.,  158.,  191.,  123.,   60.,  185.,  166.,  109.,  170.,\n",
       "        187.,  177., -121.,   -3.,   53.,   65.,  160.,   51.,    5.,\n",
       "        202., -100.,  172.,  119.,   73.,  128.,  241.,   23.,  173.,\n",
       "        203.,   27.,   37.,  103.,   -2.,  240.,  138.,  163.,   10.,\n",
       "        178.,  -19.,  -50.,  -80.,  242.,  220.,  114.,  219.,   13.,\n",
       "        199.,   93.,   39.,  164.,  235.,  207.,  143.,   24.,  234.,\n",
       "        104.,  201.,   67.,  -87.,  229.,  132., -101.,  -47.,  165.,\n",
       "        227.,   18.,  174., -137.,  -12.,   80.,  -22.,  150.,  -11.,\n",
       "       -129.,    9.,  228.,  180.,  182.,  213.,   63.,   32.,  108.,\n",
       "        110.,   34.,   55.,  146.,  -16.,  -54.,   38.,  226.,   -8.,\n",
       "        153.,  139.,   59.,   86.,  -75.,   42.,   -4.,  -59., -225.,\n",
       "        157.,   68.,   11.,   76.,   33.,   25.,    6.,  -68.,   -9.,\n",
       "        -65.,  -25.,  -92.,   -1.,   -5.,  208.,   95.,   48.,  -82.,\n",
       "        198.,   22., -117.,   54., -163.,   57.,   47.,   81.,  200.,\n",
       "        136.,   83.,   61.,  -18.,  137.,  102.,  -36.,  152.,  100.,\n",
       "        -73.,  130.,  -30.,  121.,  145.,   66., -209.,  195., -109.,\n",
       "         31.,  156., -106.,  -29.,   87.,   26.,  -26.,  159.,  216.,\n",
       "        116.,  212.,  209.,  223.,  188.,   44.,   89.,   82.,   40.,\n",
       "         46.,  118.,   74.,  -96.,   49.,    3.,    4.,  -81.,   69.,\n",
       "        167.,   20.,   16.,  -23., -142.,   79.,   29., -131.,   14.,\n",
       "        -28.,   62.,   90.,  -17.,  113.,  125.,  -94.,  148.,   97.,\n",
       "        101.,   45.,   88.,  -45.,  149.,    2.,  122.,  222.,  -49.,\n",
       "        183.,   17.,  -15.,  184.,  -85.,   28.,  -44.,  179.,   99.,\n",
       "        124.,  115.,  206.,    0.,  142.,  186.,  154.,  168.,  111.,\n",
       "         56.,  215., -136.,  -43.,  217.,  -53.,  105.,  -51.,  236.,\n",
       "        -32.,  -61.,  -14.,  -67.,  117.,  -52., -176.,  -57.,  -84.,\n",
       "        112.,  192.,  -33.,  -71.,  -78.,  -42.,  -72.,  -86.,  -21.,\n",
       "        -46.,  171.,  214.,  107.,  -37.,  221.,  -95., -110.,  237.,\n",
       "        140.,  -93.,  -58.,  -64.,   85., -123.,  -24.,   19., -124.,\n",
       "       -178., -103., -138., -107., -114.,  -91., -113.,  -38., -108.,\n",
       "         84.,   70.,   35.,  -10.,  -56.,  131.,   94.,  189.,  194.,\n",
       "         41.,  -31.,  224.,  -20., -120., -143.,   -7.,   75., -171.,\n",
       "        -88.,  169.,   15., -126.,  -27., -141., -212.,  -60., -317.,\n",
       "       -128., -118., -177.,  -77.,  151., -122.,  -41.,  205.,  -89.,\n",
       "         98.,  -97.,  -79.,  127.,    7., -149.,   92.,  197.,  147.,\n",
       "        -39.,  193., -155.,   52.,   -6.,    1., -152.,  -40., -156.,\n",
       "        -74.,   78., -102.,  230.,  190.,  -66.,  133.,    8.,  134.,\n",
       "       -204.,  161., -148.,  126.,   50.,  106., -169., -232.,  -99.,\n",
       "       -133.,   21., -262.,  -98.,  225.,   64., -185., -205., -179.,\n",
       "       -194., -197.,  162.,  -63., -158., -168., -145., -105.,  204.,\n",
       "       -206.,  141.,  211.,   71., -130.,   43.,  239.,   77.,  196.,\n",
       "        155.,  233.,  210.,  -35.,  -48.,  218., -191., -116., -271.,\n",
       "       -184.,  181.,  232.,  120., -166.,   36., -196., -144.,  231.,\n",
       "       -192., -274., -248., -147., -213.,  176.,   91., -134., -115.,\n",
       "       -119., -207., -220., -127., -157., -140.,  444.,  -62., -297.,\n",
       "       -365., -112., -151.])"
      ]
     },
     "execution_count": 62,
     "metadata": {},
     "output_type": "execute_result"
    }
   ],
   "source": [
    "final_merge[\"date_unregistration\"].unique()"
   ]
  },
  {
   "cell_type": "code",
   "execution_count": 61,
   "id": "91c1fade",
   "metadata": {},
   "outputs": [
    {
     "data": {
      "text/plain": [
       "np.float64(nan)"
      ]
     },
     "execution_count": 61,
     "metadata": {},
     "output_type": "execute_result"
    }
   ],
   "source": [
    "max((final_merge[\"date_unregistration\"].unique()))"
   ]
  },
  {
   "cell_type": "code",
   "execution_count": 57,
   "id": "121ee7dc",
   "metadata": {},
   "outputs": [
    {
     "data": {
      "text/plain": [
       "417"
      ]
     },
     "execution_count": 57,
     "metadata": {},
     "output_type": "execute_result"
    }
   ],
   "source": [
    "len(final_merge[\"date_unregistration\"].unique())"
   ]
  },
  {
   "cell_type": "code",
   "execution_count": 55,
   "id": "3d0bb945",
   "metadata": {},
   "outputs": [
    {
     "data": {
      "text/plain": [
       "np.int64(3835695)"
      ]
     },
     "execution_count": 55,
     "metadata": {},
     "output_type": "execute_result"
    }
   ],
   "source": [
    "final_merge[\"date_unregistration\"].isna().sum()"
   ]
  },
  {
   "cell_type": "code",
   "execution_count": 49,
   "id": "5a8b40d6",
   "metadata": {},
   "outputs": [
    {
     "data": {
      "text/plain": [
       "array([ 78.,  85.,  80.,  82.,  70.,  68.,  64.,  60.,  nan,  72.,  71.,\n",
       "        74.,  88.,  75.,  69.,  30.,  63.,  35.,  79.,  50.,  65.,  62.,\n",
       "        73.,  81.,  76.,  67.,  89.,  77.,  83.,  42.,  66.,  59.,  61.,\n",
       "        38.,  86.,  18.,  49.,  57.,  55.,  84.,  47.,  51.,  56.,  53.,\n",
       "        54.,  45.,  87.,  46.,  43.,  52.,  39.,  37.,  48.,  40.,  32.,\n",
       "        90.,  58.,  93.,  28.,  44.,  33.,  41.,  94.,  91.,  95.,  36.,\n",
       "        25.,  15.,  11.,  34.,   0.,  92.,  98.,  19.,  27.,  24.,  29.,\n",
       "        20., 100.,   5.,  96.,  97.,  10.,  13.,  99.,  26.,  14.,   1.,\n",
       "        22.,  12.,   8.,  17.,  23.,  21.,  16.,   9.,  31.,   6.,   7.,\n",
       "         4.,   2.,   3.])"
      ]
     },
     "execution_count": 49,
     "metadata": {},
     "output_type": "execute_result"
    }
   ],
   "source": [
    "final_merge[\"score\"].unique()"
   ]
  },
  {
   "cell_type": "code",
   "execution_count": 50,
   "id": "5ac0c855",
   "metadata": {},
   "outputs": [],
   "source": [
    "#Consistent drop in engagement over time\n",
    "#    Replace 'col1' with the actual column name you want to use for the condition.\n",
    "condition_column1 = 'score'\n",
    "condition_column2='is_banked'\n",
    "\n",
    "# 2. Create a boolean mask to identify the rows\n",
    "#    This mask will be True for rows where the value in 'condition_column' is <= 1\n",
    "mask1= final_merge[condition_column1] <= 30\n",
    "mask2= final_merge[condition_column2]==1\n",
    "#final_merge[\"sum_click\"].describe() give 25 percentile =1\n",
    "final_mask= mask1 & mask2\n",
    "\n",
    "# 3. Use .loc to select rows based on the mask and set the 'burnout' column\n",
    "final_merge.loc[final_mask, 'burnout'] = 1"
   ]
  },
  {
   "cell_type": "code",
   "execution_count": 51,
   "id": "388277e9",
   "metadata": {},
   "outputs": [],
   "source": [
    "final_merge.to_csv(\"all_condition_done.csv\", index=False)"
   ]
  }
 ],
 "metadata": {
  "kernelspec": {
   "display_name": "Python 3",
   "language": "python",
   "name": "python3"
  },
  "language_info": {
   "codemirror_mode": {
    "name": "ipython",
    "version": 3
   },
   "file_extension": ".py",
   "mimetype": "text/x-python",
   "name": "python",
   "nbconvert_exporter": "python",
   "pygments_lexer": "ipython3",
   "version": "3.11.9"
  }
 },
 "nbformat": 4,
 "nbformat_minor": 5
}
